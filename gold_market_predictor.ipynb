{
 "cells": [
  {
   "cell_type": "markdown",
   "id": "6ba9bcfa",
   "metadata": {},
   "source": [
    "In this project i am gonna build 2 models to predict if the price of gold is gonna go up. \n",
    "\n",
    "I will use two models **LogisticRegression** and **RandomForestClassifier**. To see which one gives me better results.\n"
   ]
  },
  {
   "cell_type": "code",
   "execution_count": 107,
   "id": "78c1bb9d",
   "metadata": {},
   "outputs": [],
   "source": [
    "# Import packages\n",
    "import pandas as pd\n",
    "import numpy as np\n",
    "\n",
    "# Import packages for data visualization\n",
    "import seaborn as sns\n",
    "import matplotlib.pyplot as plt\n",
    "\n",
    "# Import packages for data preprocessing and modeling\n",
    "from xgboost import plot_importance\n",
    "from sklearn.model_selection import GridSearchCV, train_test_split\n",
    "from sklearn.metrics import accuracy_score, precision_score, recall_score,\\\n",
    "f1_score, confusion_matrix, ConfusionMatrixDisplay\n",
    "from sklearn.ensemble import RandomForestClassifier\n",
    "from sklearn.linear_model import LogisticRegression\n",
    "from sklearn.preprocessing import MinMaxScaler\n",
    "\n",
    "import warnings\n",
    "warnings.simplefilter('ignore')"
   ]
  },
  {
   "cell_type": "code",
   "execution_count": 72,
   "id": "f64d62a9",
   "metadata": {},
   "outputs": [
    {
     "data": {
      "text/html": [
       "<div>\n",
       "<style scoped>\n",
       "    .dataframe tbody tr th:only-of-type {\n",
       "        vertical-align: middle;\n",
       "    }\n",
       "\n",
       "    .dataframe tbody tr th {\n",
       "        vertical-align: top;\n",
       "    }\n",
       "\n",
       "    .dataframe thead th {\n",
       "        text-align: right;\n",
       "    }\n",
       "</style>\n",
       "<table border=\"1\" class=\"dataframe\">\n",
       "  <thead>\n",
       "    <tr style=\"text-align: right;\">\n",
       "      <th></th>\n",
       "      <th>Date</th>\n",
       "      <th>Open</th>\n",
       "      <th>High</th>\n",
       "      <th>Low</th>\n",
       "      <th>Close</th>\n",
       "    </tr>\n",
       "  </thead>\n",
       "  <tbody>\n",
       "    <tr>\n",
       "      <th>0</th>\n",
       "      <td>01/02/2013</td>\n",
       "      <td>1,676.40</td>\n",
       "      <td>1,695.40</td>\n",
       "      <td>1,670.90</td>\n",
       "      <td>1,688.80</td>\n",
       "    </tr>\n",
       "    <tr>\n",
       "      <th>1</th>\n",
       "      <td>01/02/2014</td>\n",
       "      <td>1,204.50</td>\n",
       "      <td>1,230.80</td>\n",
       "      <td>1,202.50</td>\n",
       "      <td>1,225.20</td>\n",
       "    </tr>\n",
       "    <tr>\n",
       "      <th>2</th>\n",
       "      <td>01/02/2015</td>\n",
       "      <td>1,184.00</td>\n",
       "      <td>1,194.90</td>\n",
       "      <td>1,167.30</td>\n",
       "      <td>1,186.20</td>\n",
       "    </tr>\n",
       "    <tr>\n",
       "      <th>3</th>\n",
       "      <td>01/02/2018</td>\n",
       "      <td>1,305.30</td>\n",
       "      <td>1,320.40</td>\n",
       "      <td>1,304.60</td>\n",
       "      <td>1,316.10</td>\n",
       "    </tr>\n",
       "    <tr>\n",
       "      <th>4</th>\n",
       "      <td>01/02/2019</td>\n",
       "      <td>1,285.00</td>\n",
       "      <td>1,291.00</td>\n",
       "      <td>1,280.60</td>\n",
       "      <td>1,284.10</td>\n",
       "    </tr>\n",
       "  </tbody>\n",
       "</table>\n",
       "</div>"
      ],
      "text/plain": [
       "         Date      Open      High       Low     Close\n",
       "0  01/02/2013  1,676.40  1,695.40  1,670.90  1,688.80\n",
       "1  01/02/2014  1,204.50  1,230.80  1,202.50  1,225.20\n",
       "2  01/02/2015  1,184.00  1,194.90  1,167.30  1,186.20\n",
       "3  01/02/2018  1,305.30  1,320.40  1,304.60  1,316.10\n",
       "4  01/02/2019  1,285.00  1,291.00  1,280.60  1,284.10"
      ]
     },
     "execution_count": 72,
     "metadata": {},
     "output_type": "execute_result"
    }
   ],
   "source": [
    "#Load the data\n",
    "data = pd.read_csv(r\"C:\\Users\\ponce\\Desktop\\Data Sc\\Projects\\Gold Market Predictor\\gold_prices_over_time.csv\")\n",
    "data.head()"
   ]
  },
  {
   "cell_type": "code",
   "execution_count": 73,
   "id": "0d39e56e",
   "metadata": {},
   "outputs": [
    {
     "name": "stdout",
     "output_type": "stream",
     "text": [
      "<class 'pandas.core.frame.DataFrame'>\n",
      "RangeIndex: 3703 entries, 0 to 3702\n",
      "Data columns (total 5 columns):\n",
      " #   Column  Non-Null Count  Dtype \n",
      "---  ------  --------------  ----- \n",
      " 0   Date    3703 non-null   object\n",
      " 1   Open    3703 non-null   object\n",
      " 2   High    3703 non-null   object\n",
      " 3   Low     3703 non-null   object\n",
      " 4   Close   3703 non-null   object\n",
      "dtypes: object(5)\n",
      "memory usage: 144.8+ KB\n"
     ]
    }
   ],
   "source": [
    "#check basic information\n",
    "data.info()"
   ]
  },
  {
   "cell_type": "code",
   "execution_count": 74,
   "id": "bd421f38",
   "metadata": {},
   "outputs": [],
   "source": [
    "#converting objects type to numeric\n",
    "data[\"Open\"] = pd.to_numeric(data[\"Open\"].replace(',','', regex=True), errors='coerce')\n",
    "data[\"High\"] = pd.to_numeric(data[\"High\"].replace(',','', regex=True), errors='coerce')\n",
    "data[\"Low\"] = pd.to_numeric(data[\"Low\"].replace(',','', regex=True), errors='coerce')\n",
    "data[\"Close\"] = pd.to_numeric(data[\"Close\"].replace(',','', regex=True), errors='coerce')\n",
    "\n",
    "#converting Date to datetime\n",
    "data[\"Date\"] = pd.to_datetime(data[\"Date\"])"
   ]
  },
  {
   "cell_type": "code",
   "execution_count": 75,
   "id": "5f68091b",
   "metadata": {},
   "outputs": [
    {
     "data": {
      "text/html": [
       "<div>\n",
       "<style scoped>\n",
       "    .dataframe tbody tr th:only-of-type {\n",
       "        vertical-align: middle;\n",
       "    }\n",
       "\n",
       "    .dataframe tbody tr th {\n",
       "        vertical-align: top;\n",
       "    }\n",
       "\n",
       "    .dataframe thead th {\n",
       "        text-align: right;\n",
       "    }\n",
       "</style>\n",
       "<table border=\"1\" class=\"dataframe\">\n",
       "  <thead>\n",
       "    <tr style=\"text-align: right;\">\n",
       "      <th></th>\n",
       "      <th>Date</th>\n",
       "      <th>Open</th>\n",
       "      <th>High</th>\n",
       "      <th>Low</th>\n",
       "      <th>Close</th>\n",
       "    </tr>\n",
       "  </thead>\n",
       "  <tbody>\n",
       "    <tr>\n",
       "      <th>count</th>\n",
       "      <td>3703</td>\n",
       "      <td>3703.000000</td>\n",
       "      <td>3703.000000</td>\n",
       "      <td>3703.000000</td>\n",
       "      <td>3703.000000</td>\n",
       "    </tr>\n",
       "    <tr>\n",
       "      <th>mean</th>\n",
       "      <td>2016-08-30 08:19:18.844180480</td>\n",
       "      <td>1465.472212</td>\n",
       "      <td>1475.929193</td>\n",
       "      <td>1454.359303</td>\n",
       "      <td>1465.322117</td>\n",
       "    </tr>\n",
       "    <tr>\n",
       "      <th>min</th>\n",
       "      <td>2009-04-24 00:00:00</td>\n",
       "      <td>887.500000</td>\n",
       "      <td>890.800000</td>\n",
       "      <td>880.100000</td>\n",
       "      <td>888.200000</td>\n",
       "    </tr>\n",
       "    <tr>\n",
       "      <th>25%</th>\n",
       "      <td>2012-12-26 12:00:00</td>\n",
       "      <td>1239.050000</td>\n",
       "      <td>1247.350000</td>\n",
       "      <td>1230.250000</td>\n",
       "      <td>1239.150000</td>\n",
       "    </tr>\n",
       "    <tr>\n",
       "      <th>50%</th>\n",
       "      <td>2016-08-30 00:00:00</td>\n",
       "      <td>1351.300000</td>\n",
       "      <td>1361.000000</td>\n",
       "      <td>1340.200000</td>\n",
       "      <td>1350.700000</td>\n",
       "    </tr>\n",
       "    <tr>\n",
       "      <th>75%</th>\n",
       "      <td>2020-05-05 12:00:00</td>\n",
       "      <td>1733.050000</td>\n",
       "      <td>1746.050000</td>\n",
       "      <td>1720.300000</td>\n",
       "      <td>1732.000000</td>\n",
       "    </tr>\n",
       "    <tr>\n",
       "      <th>max</th>\n",
       "      <td>2024-01-09 00:00:00</td>\n",
       "      <td>2094.400000</td>\n",
       "      <td>2152.300000</td>\n",
       "      <td>2074.600000</td>\n",
       "      <td>2093.100000</td>\n",
       "    </tr>\n",
       "    <tr>\n",
       "      <th>std</th>\n",
       "      <td>NaN</td>\n",
       "      <td>287.846134</td>\n",
       "      <td>290.011946</td>\n",
       "      <td>285.208983</td>\n",
       "      <td>287.517425</td>\n",
       "    </tr>\n",
       "  </tbody>\n",
       "</table>\n",
       "</div>"
      ],
      "text/plain": [
       "                                Date         Open         High          Low  \\\n",
       "count                           3703  3703.000000  3703.000000  3703.000000   \n",
       "mean   2016-08-30 08:19:18.844180480  1465.472212  1475.929193  1454.359303   \n",
       "min              2009-04-24 00:00:00   887.500000   890.800000   880.100000   \n",
       "25%              2012-12-26 12:00:00  1239.050000  1247.350000  1230.250000   \n",
       "50%              2016-08-30 00:00:00  1351.300000  1361.000000  1340.200000   \n",
       "75%              2020-05-05 12:00:00  1733.050000  1746.050000  1720.300000   \n",
       "max              2024-01-09 00:00:00  2094.400000  2152.300000  2074.600000   \n",
       "std                              NaN   287.846134   290.011946   285.208983   \n",
       "\n",
       "             Close  \n",
       "count  3703.000000  \n",
       "mean   1465.322117  \n",
       "min     888.200000  \n",
       "25%    1239.150000  \n",
       "50%    1350.700000  \n",
       "75%    1732.000000  \n",
       "max    2093.100000  \n",
       "std     287.517425  "
      ]
     },
     "execution_count": 75,
     "metadata": {},
     "output_type": "execute_result"
    }
   ],
   "source": [
    "#getting statistics info\n",
    "data.describe()\n"
   ]
  },
  {
   "cell_type": "code",
   "execution_count": 76,
   "id": "77263c3f",
   "metadata": {},
   "outputs": [
    {
     "data": {
      "image/png": "[encoded data removed]",
      "text/plain": [
       "<Figure size 640x480 with 1 Axes>"
      ]
     },
     "metadata": {},
     "output_type": "display_data"
    }
   ],
   "source": [
    "#Gold price over time\n",
    "\n",
    "sns.lineplot(data, x=\"Date\", y=\"Close\")\n",
    "plt.xlabel(\"Year\")\n",
    "plt.ylabel(\"Gold price\")\n",
    "plt.title(\"Gold price over the years\");"
   ]
  },
  {
   "cell_type": "code",
   "execution_count": 77,
   "id": "8bbcd76b",
   "metadata": {},
   "outputs": [
    {
     "data": {
      "text/html": [
       "<div>\n",
       "<style scoped>\n",
       "    .dataframe tbody tr th:only-of-type {\n",
       "        vertical-align: middle;\n",
       "    }\n",
       "\n",
       "    .dataframe tbody tr th {\n",
       "        vertical-align: top;\n",
       "    }\n",
       "\n",
       "    .dataframe thead th {\n",
       "        text-align: right;\n",
       "    }\n",
       "</style>\n",
       "<table border=\"1\" class=\"dataframe\">\n",
       "  <thead>\n",
       "    <tr style=\"text-align: right;\">\n",
       "      <th></th>\n",
       "      <th>Date</th>\n",
       "      <th>Open</th>\n",
       "      <th>High</th>\n",
       "      <th>Low</th>\n",
       "      <th>Close</th>\n",
       "    </tr>\n",
       "  </thead>\n",
       "  <tbody>\n",
       "    <tr>\n",
       "      <th>0</th>\n",
       "      <td>2009-04-24</td>\n",
       "      <td>905.5</td>\n",
       "      <td>915.4</td>\n",
       "      <td>904.2</td>\n",
       "      <td>914.1</td>\n",
       "    </tr>\n",
       "    <tr>\n",
       "      <th>1</th>\n",
       "      <td>2009-04-27</td>\n",
       "      <td>915.0</td>\n",
       "      <td>919.7</td>\n",
       "      <td>905.8</td>\n",
       "      <td>908.2</td>\n",
       "    </tr>\n",
       "    <tr>\n",
       "      <th>2</th>\n",
       "      <td>2009-04-28</td>\n",
       "      <td>907.2</td>\n",
       "      <td>907.7</td>\n",
       "      <td>884.6</td>\n",
       "      <td>893.6</td>\n",
       "    </tr>\n",
       "    <tr>\n",
       "      <th>3</th>\n",
       "      <td>2009-04-29</td>\n",
       "      <td>894.0</td>\n",
       "      <td>904.0</td>\n",
       "      <td>888.3</td>\n",
       "      <td>900.5</td>\n",
       "    </tr>\n",
       "    <tr>\n",
       "      <th>4</th>\n",
       "      <td>2009-04-30</td>\n",
       "      <td>898.6</td>\n",
       "      <td>900.8</td>\n",
       "      <td>880.1</td>\n",
       "      <td>891.2</td>\n",
       "    </tr>\n",
       "  </tbody>\n",
       "</table>\n",
       "</div>"
      ],
      "text/plain": [
       "        Date   Open   High    Low  Close\n",
       "0 2009-04-24  905.5  915.4  904.2  914.1\n",
       "1 2009-04-27  915.0  919.7  905.8  908.2\n",
       "2 2009-04-28  907.2  907.7  884.6  893.6\n",
       "3 2009-04-29  894.0  904.0  888.3  900.5\n",
       "4 2009-04-30  898.6  900.8  880.1  891.2"
      ]
     },
     "execution_count": 77,
     "metadata": {},
     "output_type": "execute_result"
    }
   ],
   "source": [
    "#ordering the values by date\n",
    "df = data.sort_values(by=\"Date\").reset_index(drop=True)\n",
    "df.head()"
   ]
  },
  {
   "cell_type": "code",
   "execution_count": 78,
   "id": "2044fd5a",
   "metadata": {},
   "outputs": [
    {
     "data": {
      "text/html": [
       "<div>\n",
       "<style scoped>\n",
       "    .dataframe tbody tr th:only-of-type {\n",
       "        vertical-align: middle;\n",
       "    }\n",
       "\n",
       "    .dataframe tbody tr th {\n",
       "        vertical-align: top;\n",
       "    }\n",
       "\n",
       "    .dataframe thead th {\n",
       "        text-align: right;\n",
       "    }\n",
       "</style>\n",
       "<table border=\"1\" class=\"dataframe\">\n",
       "  <thead>\n",
       "    <tr style=\"text-align: right;\">\n",
       "      <th></th>\n",
       "      <th>Date</th>\n",
       "      <th>Open</th>\n",
       "      <th>High</th>\n",
       "      <th>Low</th>\n",
       "      <th>Close</th>\n",
       "      <th>Tomorrow Price</th>\n",
       "    </tr>\n",
       "  </thead>\n",
       "  <tbody>\n",
       "    <tr>\n",
       "      <th>0</th>\n",
       "      <td>2009-04-24</td>\n",
       "      <td>905.5</td>\n",
       "      <td>915.4</td>\n",
       "      <td>904.2</td>\n",
       "      <td>914.1</td>\n",
       "      <td>908.2</td>\n",
       "    </tr>\n",
       "    <tr>\n",
       "      <th>1</th>\n",
       "      <td>2009-04-27</td>\n",
       "      <td>915.0</td>\n",
       "      <td>919.7</td>\n",
       "      <td>905.8</td>\n",
       "      <td>908.2</td>\n",
       "      <td>893.6</td>\n",
       "    </tr>\n",
       "    <tr>\n",
       "      <th>2</th>\n",
       "      <td>2009-04-28</td>\n",
       "      <td>907.2</td>\n",
       "      <td>907.7</td>\n",
       "      <td>884.6</td>\n",
       "      <td>893.6</td>\n",
       "      <td>900.5</td>\n",
       "    </tr>\n",
       "    <tr>\n",
       "      <th>3</th>\n",
       "      <td>2009-04-29</td>\n",
       "      <td>894.0</td>\n",
       "      <td>904.0</td>\n",
       "      <td>888.3</td>\n",
       "      <td>900.5</td>\n",
       "      <td>891.2</td>\n",
       "    </tr>\n",
       "    <tr>\n",
       "      <th>4</th>\n",
       "      <td>2009-04-30</td>\n",
       "      <td>898.6</td>\n",
       "      <td>900.8</td>\n",
       "      <td>880.1</td>\n",
       "      <td>891.2</td>\n",
       "      <td>888.2</td>\n",
       "    </tr>\n",
       "  </tbody>\n",
       "</table>\n",
       "</div>"
      ],
      "text/plain": [
       "        Date   Open   High    Low  Close  Tomorrow Price\n",
       "0 2009-04-24  905.5  915.4  904.2  914.1           908.2\n",
       "1 2009-04-27  915.0  919.7  905.8  908.2           893.6\n",
       "2 2009-04-28  907.2  907.7  884.6  893.6           900.5\n",
       "3 2009-04-29  894.0  904.0  888.3  900.5           891.2\n",
       "4 2009-04-30  898.6  900.8  880.1  891.2           888.2"
      ]
     },
     "execution_count": 78,
     "metadata": {},
     "output_type": "execute_result"
    }
   ],
   "source": [
    "#create a new binary variable that will tell us if the price went up the next day; 1 for 'yes', 0 for'no\n",
    "df[\"Tomorrow Price\"] = df[\"Close\"].shift(-1)\n",
    "df.head()"
   ]
  },
  {
   "cell_type": "code",
   "execution_count": 79,
   "id": "61449921",
   "metadata": {},
   "outputs": [
    {
     "data": {
      "text/html": [
       "<div>\n",
       "<style scoped>\n",
       "    .dataframe tbody tr th:only-of-type {\n",
       "        vertical-align: middle;\n",
       "    }\n",
       "\n",
       "    .dataframe tbody tr th {\n",
       "        vertical-align: top;\n",
       "    }\n",
       "\n",
       "    .dataframe thead th {\n",
       "        text-align: right;\n",
       "    }\n",
       "</style>\n",
       "<table border=\"1\" class=\"dataframe\">\n",
       "  <thead>\n",
       "    <tr style=\"text-align: right;\">\n",
       "      <th></th>\n",
       "      <th>Date</th>\n",
       "      <th>Open</th>\n",
       "      <th>High</th>\n",
       "      <th>Low</th>\n",
       "      <th>Close</th>\n",
       "      <th>Tomorrow Price</th>\n",
       "      <th>Target</th>\n",
       "    </tr>\n",
       "  </thead>\n",
       "  <tbody>\n",
       "    <tr>\n",
       "      <th>0</th>\n",
       "      <td>2009-04-24</td>\n",
       "      <td>905.5</td>\n",
       "      <td>915.4</td>\n",
       "      <td>904.2</td>\n",
       "      <td>914.1</td>\n",
       "      <td>908.2</td>\n",
       "      <td>0</td>\n",
       "    </tr>\n",
       "    <tr>\n",
       "      <th>1</th>\n",
       "      <td>2009-04-27</td>\n",
       "      <td>915.0</td>\n",
       "      <td>919.7</td>\n",
       "      <td>905.8</td>\n",
       "      <td>908.2</td>\n",
       "      <td>893.6</td>\n",
       "      <td>0</td>\n",
       "    </tr>\n",
       "    <tr>\n",
       "      <th>2</th>\n",
       "      <td>2009-04-28</td>\n",
       "      <td>907.2</td>\n",
       "      <td>907.7</td>\n",
       "      <td>884.6</td>\n",
       "      <td>893.6</td>\n",
       "      <td>900.5</td>\n",
       "      <td>1</td>\n",
       "    </tr>\n",
       "    <tr>\n",
       "      <th>3</th>\n",
       "      <td>2009-04-29</td>\n",
       "      <td>894.0</td>\n",
       "      <td>904.0</td>\n",
       "      <td>888.3</td>\n",
       "      <td>900.5</td>\n",
       "      <td>891.2</td>\n",
       "      <td>0</td>\n",
       "    </tr>\n",
       "    <tr>\n",
       "      <th>4</th>\n",
       "      <td>2009-04-30</td>\n",
       "      <td>898.6</td>\n",
       "      <td>900.8</td>\n",
       "      <td>880.1</td>\n",
       "      <td>891.2</td>\n",
       "      <td>888.2</td>\n",
       "      <td>0</td>\n",
       "    </tr>\n",
       "  </tbody>\n",
       "</table>\n",
       "</div>"
      ],
      "text/plain": [
       "        Date   Open   High    Low  Close  Tomorrow Price  Target\n",
       "0 2009-04-24  905.5  915.4  904.2  914.1           908.2       0\n",
       "1 2009-04-27  915.0  919.7  905.8  908.2           893.6       0\n",
       "2 2009-04-28  907.2  907.7  884.6  893.6           900.5       1\n",
       "3 2009-04-29  894.0  904.0  888.3  900.5           891.2       0\n",
       "4 2009-04-30  898.6  900.8  880.1  891.2           888.2       0"
      ]
     },
     "execution_count": 79,
     "metadata": {},
     "output_type": "execute_result"
    }
   ],
   "source": [
    "df[\"Target\"] = (df[\"Tomorrow Price\"]>df[\"Close\"]).astype(int) \n",
    "df.head()"
   ]
  },
  {
   "cell_type": "code",
   "execution_count": 81,
   "id": "a4623a25",
   "metadata": {},
   "outputs": [],
   "source": [
    "#we gonna take the last 800 rows for testing. that's a bit more 0f 21%\n",
    "#this is the best way to split the data because in reallife that's how we will predict prices\n",
    "#study the past prices to pretic what's gonna come\n",
    "\n",
    "train_data = df.iloc[:2903]\n",
    "test_data = df.iloc[2903:]\n",
    "\n",
    " = train_data.drop(columns = [\"Date\",\"Tomorrow Price\", \"Target\"])\n",
    "X_test = test_data.drop(columns = [\"Date\",\"Tomorrow Price\", \"Target\"])\n",
    "\n",
    "y_train = train_data[\"Target\"]\n",
    "y_test = test_data[\"Target\"]\n"
   ]
  },
  {
   "cell_type": "code",
   "execution_count": 82,
   "id": "c8a5976b",
   "metadata": {},
   "outputs": [
    {
     "name": "stdout",
     "output_type": "stream",
     "text": [
      "(2903, 4) (2903,) (800, 4) (800,)\n"
     ]
    }
   ],
   "source": [
    "#doble-checking everything sizes make sense\n",
    "print(X_train.shape, y_train.shape, X_test.shape, y_test.shape)"
   ]
  },
  {
   "cell_type": "markdown",
   "id": "3f314e28",
   "metadata": {},
   "source": [
    "# Using Logistic Regression"
   ]
  },
  {
   "cell_type": "code",
   "execution_count": 90,
   "id": "b2f52060",
   "metadata": {},
   "outputs": [],
   "source": [
    "# Instantiate the Logistic Regression\n",
    "clf = LogisticRegression(solver='liblinear', random_state=0).fit(X_train,y_train)\n",
    "\n",
    "#making predictions\n",
    "clf_y_pred = clf.predict(X_test)"
   ]
  },
  {
   "cell_type": "code",
   "execution_count": 91,
   "id": "f8caa3f9",
   "metadata": {},
   "outputs": [
    {
     "data": {
      "image/png": "[encoded data removed]",
      "text/plain": [
       "<Figure size 640x480 with 2 Axes>"
      ]
     },
     "metadata": {},
     "output_type": "display_data"
    }
   ],
   "source": [
    "#evaluting the model\n",
    "cm = confusion_matrix(y_test, clf_y_pred, labels = clf.classes_)\n",
    "disp = ConfusionMatrixDisplay(confusion_matrix = cm,display_labels = clf.classes_)\n",
    "disp.plot();"
   ]
  },
  {
   "cell_type": "markdown",
   "id": "21a9fe33",
   "metadata": {},
   "source": [
    "This mean that 319 times the model said the price of gold was gonna go up and it went up. The model got it right.\n",
    "\n",
    "113 times the model said the price of gold was not gonna go up and it didn't go up. The model got it right.\n",
    "\n",
    "275 times the model said the price of gold was gonna go up and it didn't go up. The model got it wrong.\n",
    "\n",
    "93 times the model said the price of gold was not gonna go up and it did go up. The model got it wrong.\n"
   ]
  },
  {
   "cell_type": "code",
   "execution_count": 92,
   "id": "3605c25e",
   "metadata": {},
   "outputs": [
    {
     "name": "stdout",
     "output_type": "stream",
     "text": [
      "Accuracy Score: 0.54\n",
      "Precision Score: 0.5370370370370371\n",
      "Recall Score: 0.7742718446601942\n",
      "F1 Score: 0.6341948310139166\n"
     ]
    }
   ],
   "source": [
    "#here we got the model scores\n",
    "\n",
    "print(\"Accuracy Score: \"+str(accuracy_score(y_test, clf_y_pred)))\n",
    "print(\"Precision Score: \"+str(precision_score(y_test, clf_y_pred)))\n",
    "print(\"Recall Score: \"+str(recall_score(y_test, clf_y_pred)))\n",
    "print(\"F1 Score: \"+str(f1_score(y_test, clf_y_pred)))"
   ]
  },
  {
   "cell_type": "code",
   "execution_count": 118,
   "id": "d249728a",
   "metadata": {},
   "outputs": [],
   "source": [
    "#we can try to improve the model by scaling the X_train values\n",
    "scaler = MinMaxScaler()\n",
    "X_test_scaled = pd.DataFrame(scaler.fit_transform(X_test))\n",
    "X_train_scaled = pd.DataFrame(scaler.fit_transform(X_train))"
   ]
  },
  {
   "cell_type": "code",
   "execution_count": 119,
   "id": "62be2755",
   "metadata": {},
   "outputs": [],
   "source": [
    "# Instantiate a Logistic Regression with the scaled values\n",
    "clf_2 = LogisticRegression(solver='liblinear', random_state=0).fit(X_train_scaled,y_train)\n",
    "clf_y_pred_2 = clf.predict(X_test_scaled)"
   ]
  },
  {
   "cell_type": "code",
   "execution_count": 120,
   "id": "093470a6",
   "metadata": {},
   "outputs": [
    {
     "name": "stdout",
     "output_type": "stream",
     "text": [
      "Accuracy Score: 0.54875\n",
      "Precision Score: 0.6186046511627907\n",
      "Recall Score: 0.32281553398058255\n",
      "F1 Score: 0.4242424242424243\n"
     ]
    }
   ],
   "source": [
    "#model scores\n",
    "print(\"Accuracy Score: \"+str(accuracy_score(y_test, clf_y_pred_2)))\n",
    "print(\"Precision Score: \"+str(precision_score(y_test, clf_y_pred_2)))\n",
    "print(\"Recall Score: \"+str(recall_score(y_test, clf_y_pred_2)))\n",
    "print(\"F1 Score: \"+str(f1_score(y_test, clf_y_pred_2)))"
   ]
  },
  {
   "cell_type": "markdown",
   "id": "f551738b",
   "metadata": {},
   "source": [
    "**Note:**\n",
    "\n",
    "Since Precision score is the proportion of positive predictions that were trus positives. This mean that if the model says that the price of gold is gonna go up there is a 61.8% chance that it will. \n",
    "\n",
    "This is a better result for this type of problem."
   ]
  },
  {
   "cell_type": "markdown",
   "id": "f93f2b7e",
   "metadata": {},
   "source": [
    "# Using Random Forest Classifier"
   ]
  },
  {
   "cell_type": "code",
   "execution_count": 103,
   "id": "1d166ea0",
   "metadata": {},
   "outputs": [
    {
     "data": {
      "text/html": [
       "<style>#sk-container-id-4 {color: black;}#sk-container-id-4 pre{padding: 0;}#sk-container-id-4 div.sk-toggleable {background-color: white;}#sk-container-id-4 label.sk-toggleable__label {cursor: pointer;display: block;width: 100%;margin-bottom: 0;padding: 0.3em;box-sizing: border-box;text-align: center;}#sk-container-id-4 label.sk-toggleable__label-arrow:before {content: \"▸\";float: left;margin-right: 0.25em;color: #696969;}#sk-container-id-4 label.sk-toggleable__label-arrow:hover:before {color: black;}#sk-container-id-4 div.sk-estimator:hover label.sk-toggleable__label-arrow:before {color: black;}#sk-container-id-4 div.sk-toggleable__content {max-height: 0;max-width: 0;overflow: hidden;text-align: left;background-color: #f0f8ff;}#sk-container-id-4 div.sk-toggleable__content pre {margin: 0.2em;color: black;border-radius: 0.25em;background-color: #f0f8ff;}#sk-container-id-4 input.sk-toggleable__control:checked~div.sk-toggleable__content {max-height: 200px;max-width: 100%;overflow: auto;}#sk-container-id-4 input.sk-toggleable__control:checked~label.sk-toggleable__label-arrow:before {content: \"▾\";}#sk-container-id-4 div.sk-estimator input.sk-toggleable__control:checked~label.sk-toggleable__label {background-color: #d4ebff;}#sk-container-id-4 div.sk-label input.sk-toggleable__control:checked~label.sk-toggleable__label {background-color: #d4ebff;}#sk-container-id-4 input.sk-hidden--visually {border: 0;clip: rect(1px 1px 1px 1px);clip: rect(1px, 1px, 1px, 1px);height: 1px;margin: -1px;overflow: hidden;padding: 0;position: absolute;width: 1px;}#sk-container-id-4 div.sk-estimator {font-family: monospace;background-color: #f0f8ff;border: 1px dotted black;border-radius: 0.25em;box-sizing: border-box;margin-bottom: 0.5em;}#sk-container-id-4 div.sk-estimator:hover {background-color: #d4ebff;}#sk-container-id-4 div.sk-parallel-item::after {content: \"\";width: 100%;border-bottom: 1px solid gray;flex-grow: 1;}#sk-container-id-4 div.sk-label:hover label.sk-toggleable__label {background-color: #d4ebff;}#sk-container-id-4 div.sk-serial::before {content: \"\";position: absolute;border-left: 1px solid gray;box-sizing: border-box;top: 0;bottom: 0;left: 50%;z-index: 0;}#sk-container-id-4 div.sk-serial {display: flex;flex-direction: column;align-items: center;background-color: white;padding-right: 0.2em;padding-left: 0.2em;position: relative;}#sk-container-id-4 div.sk-item {position: relative;z-index: 1;}#sk-container-id-4 div.sk-parallel {display: flex;align-items: stretch;justify-content: center;background-color: white;position: relative;}#sk-container-id-4 div.sk-item::before, #sk-container-id-4 div.sk-parallel-item::before {content: \"\";position: absolute;border-left: 1px solid gray;box-sizing: border-box;top: 0;bottom: 0;left: 50%;z-index: -1;}#sk-container-id-4 div.sk-parallel-item {display: flex;flex-direction: column;z-index: 1;position: relative;background-color: white;}#sk-container-id-4 div.sk-parallel-item:first-child::after {align-self: flex-end;width: 50%;}#sk-container-id-4 div.sk-parallel-item:last-child::after {align-self: flex-start;width: 50%;}#sk-container-id-4 div.sk-parallel-item:only-child::after {width: 0;}#sk-container-id-4 div.sk-dashed-wrapped {border: 1px dashed gray;margin: 0 0.4em 0.5em 0.4em;box-sizing: border-box;padding-bottom: 0.4em;background-color: white;}#sk-container-id-4 div.sk-label label {font-family: monospace;font-weight: bold;display: inline-block;line-height: 1.2em;}#sk-container-id-4 div.sk-label-container {text-align: center;}#sk-container-id-4 div.sk-container {/* jupyter's `normalize.less` sets `[hidden] { display: none; }` but bootstrap.min.css set `[hidden] { display: none !important; }` so we also need the `!important` here to be able to override the default hidden behavior on the sphinx rendered scikit-learn.org. See: https://github.com/scikit-learn/scikit-learn/issues/21755 */display: inline-block !important;position: relative;}#sk-container-id-4 div.sk-text-repr-fallback {display: none;}</style><div id=\"sk-container-id-4\" class=\"sk-top-container\"><div class=\"sk-text-repr-fallback\"><pre>GridSearchCV(cv=5, estimator=RandomForestClassifier(random_state=0),\n",
       "             param_grid={&#x27;max_depth&#x27;: [10, 50, 70], &#x27;max_features&#x27;: [&#x27;sqrt&#x27;],\n",
       "                         &#x27;max_samples&#x27;: [0.5, 0.7, 0.9],\n",
       "                         &#x27;min_samples_leaf&#x27;: [0.5, 1],\n",
       "                         &#x27;min_samples_split&#x27;: [0.001, 0.01],\n",
       "                         &#x27;n_estimators&#x27;: [50, 100, None]},\n",
       "             refit=&#x27;f1&#x27;)</pre><b>In a Jupyter environment, please rerun this cell to show the HTML representation or trust the notebook. <br />On GitHub, the HTML representation is unable to render, please try loading this page with nbviewer.org.</b></div><div class=\"sk-container\" hidden><div class=\"sk-item sk-dashed-wrapped\"><div class=\"sk-label-container\"><div class=\"sk-label sk-toggleable\"><input class=\"sk-toggleable__control sk-hidden--visually\" id=\"sk-estimator-id-10\" type=\"checkbox\" ><label for=\"sk-estimator-id-10\" class=\"sk-toggleable__label sk-toggleable__label-arrow\">GridSearchCV</label><div class=\"sk-toggleable__content\"><pre>GridSearchCV(cv=5, estimator=RandomForestClassifier(random_state=0),\n",
       "             param_grid={&#x27;max_depth&#x27;: [10, 50, 70], &#x27;max_features&#x27;: [&#x27;sqrt&#x27;],\n",
       "                         &#x27;max_samples&#x27;: [0.5, 0.7, 0.9],\n",
       "                         &#x27;min_samples_leaf&#x27;: [0.5, 1],\n",
       "                         &#x27;min_samples_split&#x27;: [0.001, 0.01],\n",
       "                         &#x27;n_estimators&#x27;: [50, 100, None]},\n",
       "             refit=&#x27;f1&#x27;)</pre></div></div></div><div class=\"sk-parallel\"><div class=\"sk-parallel-item\"><div class=\"sk-item\"><div class=\"sk-label-container\"><div class=\"sk-label sk-toggleable\"><input class=\"sk-toggleable__control sk-hidden--visually\" id=\"sk-estimator-id-11\" type=\"checkbox\" ><label for=\"sk-estimator-id-11\" class=\"sk-toggleable__label sk-toggleable__label-arrow\">estimator: RandomForestClassifier</label><div class=\"sk-toggleable__content\"><pre>RandomForestClassifier(random_state=0)</pre></div></div></div><div class=\"sk-serial\"><div class=\"sk-item\"><div class=\"sk-estimator sk-toggleable\"><input class=\"sk-toggleable__control sk-hidden--visually\" id=\"sk-estimator-id-12\" type=\"checkbox\" ><label for=\"sk-estimator-id-12\" class=\"sk-toggleable__label sk-toggleable__label-arrow\">RandomForestClassifier</label><div class=\"sk-toggleable__content\"><pre>RandomForestClassifier(random_state=0)</pre></div></div></div></div></div></div></div></div></div></div>"
      ],
      "text/plain": [
       "GridSearchCV(cv=5, estimator=RandomForestClassifier(random_state=0),\n",
       "             param_grid={'max_depth': [10, 50, 70], 'max_features': ['sqrt'],\n",
       "                         'max_samples': [0.5, 0.7, 0.9],\n",
       "                         'min_samples_leaf': [0.5, 1],\n",
       "                         'min_samples_split': [0.001, 0.01],\n",
       "                         'n_estimators': [50, 100, None]},\n",
       "             refit='f1')"
      ]
     },
     "execution_count": 103,
     "metadata": {},
     "output_type": "execute_result"
    }
   ],
   "source": [
    "# Instantiate the random forest classifier\n",
    "rf = RandomForestClassifier(random_state=0)\n",
    "\n",
    "# Create a dictionary of hyperparameters to tune\n",
    "cv_params = {'n_estimators' : [50,100,None],\n",
    "             'max_depth' : [10,50,70],\n",
    "             'min_samples_leaf' : [0.5,1],\n",
    "             'min_samples_split' : [0.001, 0.01],\n",
    "             'max_features' : [\"sqrt\"],\n",
    "             'max_samples' : [.5,.7,.9]}\n",
    "\n",
    "# Instantiate the GridSearchCV object\n",
    "rf_val = GridSearchCV(rf, cv_params, cv=5, refit='f1')\n",
    "rf_val.fit(X_train,y_train)"
   ]
  },
  {
   "cell_type": "code",
   "execution_count": 104,
   "id": "613f161a",
   "metadata": {},
   "outputs": [],
   "source": [
    "#making predictions\n",
    "y_pred = rf_val.predict(X_test)"
   ]
  },
  {
   "cell_type": "code",
   "execution_count": 106,
   "id": "9d0a2cef",
   "metadata": {},
   "outputs": [
    {
     "data": {
      "image/png": "[encoded data removed]",
      "text/plain": [
       "<Figure size 640x480 with 2 Axes>"
      ]
     },
     "metadata": {},
     "output_type": "display_data"
    }
   ],
   "source": [
    "#evaluating the model\n",
    "cm = confusion_matrix(y_test, y_pred, labels = rf_val.classes_)\n",
    "disp = ConfusionMatrixDisplay(confusion_matrix = cm,display_labels = rf_val.classes_)\n",
    "disp.plot();\n"
   ]
  },
  {
   "cell_type": "code",
   "execution_count": 99,
   "id": "3911f5cc",
   "metadata": {},
   "outputs": [
    {
     "name": "stdout",
     "output_type": "stream",
     "text": [
      "Accuracy Score: 0.515\n",
      "Precision Score: 0.515\n",
      "Recall Score: 1.0\n",
      "F1 Score: 0.6798679867986799\n"
     ]
    }
   ],
   "source": [
    "print(\"Accuracy Score: \"+str(accuracy_score(y_test, y_pred)))\n",
    "print(\"Precision Score: \"+str(precision_score(y_test, y_pred)))\n",
    "print(\"Recall Score: \"+str(recall_score(y_test, y_pred)))\n",
    "print(\"F1 Score: \"+str(f1_score(y_test, y_pred)))"
   ]
  },
  {
   "cell_type": "markdown",
   "id": "4254fefc",
   "metadata": {},
   "source": [
    "# Conclusion\n",
    "For this type of problem the logistic regression with the scaled values is the best model \"clf_2\". Given that the goal is to identify when the price of gold is gonna go up.\n",
    "\n",
    "**Note:**\n",
    " The Random Forest Classifier can be improve setting different hyperparameters but the compiling time can increase drastically."
   ]
  }
 ],
 "metadata": {
  "kernelspec": {
   "display_name": "Python 3 (ipykernel)",
   "language": "python",
   "name": "python3"
  },
  "language_info": {
   "codemirror_mode": {
    "name": "ipython",
    "version": 3
   },
   "file_extension": ".py",
   "mimetype": "text/x-python",
   "name": "python",
   "nbconvert_exporter": "python",
   "pygments_lexer": "ipython3",
   "version": "3.11.5"
  }
 },
 "nbformat": 4,
 "nbformat_minor": 5
}
