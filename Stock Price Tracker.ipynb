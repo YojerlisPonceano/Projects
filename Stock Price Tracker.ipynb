{
 "cells": [
  {
   "cell_type": "code",
   "execution_count": 216,
   "id": "dfe48ed5",
   "metadata": {},
   "outputs": [],
   "source": [
    "from bs4 import BeautifulSoup\n",
    "import pandas as pd\n",
    "import requests\n",
    "import datetime as dt\n",
    "import time\n",
    "import csv"
   ]
  },
  {
   "cell_type": "code",
   "execution_count": 217,
   "id": "e399f145",
   "metadata": {},
   "outputs": [],
   "source": [
    "#firs run this block to create the csv file then run the fuction price_tracker() to track the price. (fuction in the last block)\n",
    "\n",
    "header = ['Stock name', 'Price', 'Market Cap', 'Time']\n",
    "\n",
    "with open(r\"C:\\Users\\ponce\\Downloads\\Data Sc\\Python\\stock_price _tracker.csv\", 'w', newline='', encoding = 'UTF8') as f:\n",
    "        writer = csv.writer(f)\n",
    "        writer.writerow(header)\n",
    "        \n",
    "        \n",
    "#the path for the excel file must be fix on your own computer"
   ]
  },
  {
   "cell_type": "code",
   "execution_count": 218,
   "id": "6ba584ba",
   "metadata": {},
   "outputs": [],
   "source": [
    "def price_tracker():\n",
    "    URL = 'https://finance.yahoo.com/quote/TDOC'\n",
    "    headers = {\"User-Agent\": \"Mozilla/5.0 (Windows NT 10.0; Win64; x64) AppleWebKit/537.36 (KHTML, like Gecko) Chrome/118.0.0.0 Safari/537.36 Edg/118.0.2088.69\"}\n",
    "    page = requests.get(URL, headers=headers)\n",
    "\n",
    "\n",
    "    soup = BeautifulSoup(page.text,'html')\n",
    "    stock = soup.find(\"h1\", {\"class\": \"D(ib) Fz(18px)\"}).get_text()\n",
    "    price = soup.find(\"fin-streamer\", {\"class\": \"Fw(b) Fz(36px) Mb(-4px) D(ib)\"}).get_text()\n",
    "    market_cap = soup.find_all(\"td\", {\"class\": \"Ta(end) Fw(600) Lh(14px)\"})[8].get_text()\n",
    "    hour = str(datetime.now()).strip()[0:19]\n",
    "\n",
    "    data = [stock,price,market_cap,hour]\n",
    "    with open(r\"C:\\Users\\ponce\\Downloads\\Data Sc\\Python\\stock_price _tracker.csv\", 'a+', newline='', encoding = 'UTF8') as f:\n",
    "        writer = csv.writer(f)\n",
    "        writer.writerow(data)"
   ]
  },
  {
   "cell_type": "code",
   "execution_count": null,
   "id": "3e9cce37",
   "metadata": {},
   "outputs": [],
   "source": [
    "while(True):\n",
    "    price_tracker()\n",
    "    time.sleep(60)  #delay the code by a given time in seconds"
   ]
  },
  {
   "cell_type": "code",
   "execution_count": null,
   "id": "a65445a2",
   "metadata": {},
   "outputs": [],
   "source": []
  },
  {
   "cell_type": "code",
   "execution_count": null,
   "id": "1cf5e6c0",
   "metadata": {},
   "outputs": [],
   "source": []
  },
  {
   "cell_type": "code",
   "execution_count": null,
   "id": "d31478c5",
   "metadata": {},
   "outputs": [],
   "source": []
  },
  {
   "cell_type": "code",
   "execution_count": null,
   "id": "476a87f1",
   "metadata": {},
   "outputs": [],
   "source": []
  },
  {
   "cell_type": "code",
   "execution_count": null,
   "id": "1a181c23",
   "metadata": {},
   "outputs": [],
   "source": []
  },
  {
   "cell_type": "code",
   "execution_count": null,
   "id": "9e3e825d",
   "metadata": {},
   "outputs": [],
   "source": []
  },
  {
   "cell_type": "code",
   "execution_count": null,
   "id": "23d755e2",
   "metadata": {},
   "outputs": [],
   "source": []
  },
  {
   "cell_type": "code",
   "execution_count": null,
   "id": "fa10abcb",
   "metadata": {},
   "outputs": [],
   "source": []
  },
  {
   "cell_type": "code",
   "execution_count": null,
   "id": "199f7fad",
   "metadata": {},
   "outputs": [],
   "source": []
  },
  {
   "cell_type": "code",
   "execution_count": null,
   "id": "08b43fbd",
   "metadata": {},
   "outputs": [],
   "source": []
  }
 ],
 "metadata": {
  "kernelspec": {
   "display_name": "Python 3 (ipykernel)",
   "language": "python",
   "name": "python3"
  },
  "language_info": {
   "codemirror_mode": {
    "name": "ipython",
    "version": 3
   },
   "file_extension": ".py",
   "mimetype": "text/x-python",
   "name": "python",
   "nbconvert_exporter": "python",
   "pygments_lexer": "ipython3",
   "version": "3.11.5"
  }
 },
 "nbformat": 4,
 "nbformat_minor": 5
}
